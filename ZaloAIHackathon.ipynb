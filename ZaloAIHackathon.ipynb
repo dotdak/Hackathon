{
  "nbformat": 4,
  "nbformat_minor": 0,
  "metadata": {
    "colab": {
      "name": "ZaloAIHackathon",
      "provenance": [],
      "collapsed_sections": [],
      "include_colab_link": true
    },
    "kernelspec": {
      "name": "python3",
      "display_name": "Python 3"
    }
  },
  "cells": [
    {
      "cell_type": "markdown",
      "metadata": {
        "id": "view-in-github",
        "colab_type": "text"
      },
      "source": [
        "<a href=\"https://colab.research.google.com/github/dotdak/Hackathon/blob/master/ZaloAIHackathon.ipynb\" target=\"_parent\"><img src=\"https://colab.research.google.com/assets/colab-badge.svg\" alt=\"Open In Colab\"/></a>"
      ]
    },
    {
      "cell_type": "code",
      "metadata": {
        "id": "VbkFfsFTEkNm",
        "colab_type": "code",
        "colab": {
          "base_uri": "https://localhost:8080/",
          "height": 54
        },
        "outputId": "1b478e8f-31d2-45de-c9e5-6aa4239b1f1c"
      },
      "source": [
        "from google.colab import drive\n",
        "drive.mount('/content/drive')"
      ],
      "execution_count": 5,
      "outputs": [
        {
          "output_type": "stream",
          "text": [
            "Drive already mounted at /content/drive; to attempt to forcibly remount, call drive.mount(\"/content/drive\", force_remount=True).\n"
          ],
          "name": "stdout"
        }
      ]
    },
    {
      "cell_type": "code",
      "metadata": {
        "id": "VeAK98NGDyJk",
        "colab_type": "code",
        "colab": {}
      },
      "source": [
        "import cv2\n",
        "import json\n",
        "import os\n",
        "BASE_PATH = 'zai2019_hackaton_train/'\n",
        "IMAGES_PATH = BASE_PATH + 'images/train/'\n",
        "ANNOTATION = BASE_PATH + 'annotations/ninedash_keypoints_train.json'\n",
        "CROPPED_PATH = 'cropped_images/'"
      ],
      "execution_count": 0,
      "outputs": []
    },
    {
      "cell_type": "code",
      "metadata": {
        "id": "vATDxaCZECmr",
        "colab_type": "code",
        "colab": {}
      },
      "source": [
        "with open(ANNOTATION) as f:\n",
        "  config = json.load(f)"
      ],
      "execution_count": 0,
      "outputs": []
    },
    {
      "cell_type": "code",
      "metadata": {
        "id": "cOCj9tjkWhCl",
        "colab_type": "code",
        "colab": {}
      },
      "source": [
        "images_name_list = [f for r, d, f in os.walk(IMAGES_PATH)][0]\n",
        "id_name_mapping = {int(f.split('.')[0]): f for f in images_name_list}"
      ],
      "execution_count": 0,
      "outputs": []
    },
    {
      "cell_type": "code",
      "metadata": {
        "id": "w0ZfEzWjSk9J",
        "colab_type": "code",
        "colab": {}
      },
      "source": [
        "def get_image_name(image_id):\n",
        "  return id_name_mapping[image_id]\n",
        "\n",
        "def save_cropped_image(image_name, param):\n",
        "  image = cv2.imread(IMAGES_PATH + image_name)\n",
        "  [a, b, c, d] = [val if val >= 0 else 0 for val in param]\n",
        "  [name, extension] = image_name.split('.')\n",
        "  count = 1\n",
        "  file_name = image_name\n",
        "  while os.path.isfile(CROPPED_PATH + file_name):\n",
        "    suffix = '_{}'.format(count)\n",
        "    file_name = name + suffix + '.' + extension\n",
        "    count += 1\n",
        "  cv2.imwrite(CROPPED_PATH + file_name, image[b:b+d, a:a+c])\n",
        "def test_cropped(image_id, param):\n",
        "  save_cropped_image(get_image_name(image_id), param)\n",
        "\n",
        "for annotation in config['annotations']:\n",
        "  image_name = get_image_name(annotation['image_id'])\n",
        "  param = annotation['bbox']\n",
        "  if annotation['area'] > 0:\n",
        "    save_cropped_image(image_name, param)"
      ],
      "execution_count": 0,
      "outputs": []
    },
    {
      "cell_type": "code",
      "metadata": {
        "id": "I5ISWB4DLhSI",
        "colab_type": "code",
        "colab": {}
      },
      "source": [
        "test_cropped(5, [569, 0, 531, 918])"
      ],
      "execution_count": 0,
      "outputs": []
    },
    {
      "cell_type": "code",
      "metadata": {
        "id": "CEMRPfTebSwx",
        "colab_type": "code",
        "colab": {}
      },
      "source": [
        ""
      ],
      "execution_count": 0,
      "outputs": []
    },
    {
      "cell_type": "code",
      "metadata": {
        "id": "Or7E1KuJg8gF",
        "colab_type": "code",
        "colab": {}
      },
      "source": [
        ""
      ],
      "execution_count": 0,
      "outputs": []
    }
  ]
}
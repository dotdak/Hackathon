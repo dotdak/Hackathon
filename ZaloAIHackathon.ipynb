{
  "nbformat": 4,
  "nbformat_minor": 0,
  "metadata": {
    "colab": {
      "name": "ZaloAIHackathon",
      "provenance": [],
      "collapsed_sections": [],
      "include_colab_link": true
    },
    "kernelspec": {
      "name": "python3",
      "display_name": "Python 3"
    },
    "accelerator": "GPU"
  },
  "cells": [
    {
      "cell_type": "markdown",
      "metadata": {
        "id": "view-in-github",
        "colab_type": "text"
      },
      "source": [
        "<a href=\"https://colab.research.google.com/github/dotdak/Hackathon/blob/master/ZaloAIHackathon.ipynb\" target=\"_parent\"><img src=\"https://colab.research.google.com/assets/colab-badge.svg\" alt=\"Open In Colab\"/></a>"
      ]
    },
    {
      "cell_type": "code",
      "metadata": {
        "id": "VbkFfsFTEkNm",
        "colab_type": "code",
        "colab": {}
      },
      "source": [
        "from google.colab import drive\n",
        "drive.mount('/content/drive')\n",
        "!ls -la \"drive/My Drive/darknet\""
      ],
      "execution_count": 0,
      "outputs": []
    },
    {
      "cell_type": "code",
      "metadata": {
        "id": "HtkQadiHl4tO",
        "colab_type": "code",
        "colab": {}
      },
      "source": [
        "!curl --output images.zip https://dl.challenge.zalo.ai/ZaloAIHackathon2019/zai2019_hackathon_train.zip\n",
        "!unzip images.zip"
      ],
      "execution_count": 0,
      "outputs": []
    },
    {
      "cell_type": "code",
      "metadata": {
        "id": "WWSNZyGAnoyG",
        "colab_type": "code",
        "colab": {}
      },
      "source": [
        "# We're unzipping the cuDNN files from your Drive folder directly to the VM CUDA folders\n",
        "!tar -xzvf drive/My\\ Drive/darknet/cuDNN/cudnn-10.0-linux-x64-v7.5.0.56.tgz -C /usr/local/\n",
        "!chmod a+r /usr/local/cuda/include/cudnn.h\n",
        "\n",
        "# Now we check the version we already installed. Can comment this line on future runs\n",
        "!cat /usr/local/cuda/include/cudnn.h | grep CUDNN_MAJOR -A 2"
      ],
      "execution_count": 0,
      "outputs": []
    },
    {
      "cell_type": "code",
      "metadata": {
        "id": "oXo1Qfcv2XoW",
        "colab_type": "code",
        "colab": {}
      },
      "source": [
        "!git clone https://github.com/kriyeng/darknet/\n",
        "%cd darknet\n",
        "!git checkout feature/google-colab\n",
        "!make\n",
        "!cp -r . ../drive/My\\ Drive/darknet/bin\n",
        "!/usr/local/cuda/bin/nvcc --version\n",
        "%cd .."
      ],
      "execution_count": 0,
      "outputs": []
    },
    {
      "cell_type": "code",
      "metadata": {
        "id": "x9GzNYNb2yUp",
        "colab_type": "code",
        "colab": {}
      },
      "source": [
        "def imShow(path):\n",
        "  import cv2\n",
        "  import matplotlib.pyplot as plt\n",
        "  %matplotlib inline\n",
        "\n",
        "  image = cv2.imread(path)\n",
        "  height, width = image.shape[:2]\n",
        "  resized_image = cv2.resize(image,(3*width, 3*height), interpolation = cv2.INTER_CUBIC)\n",
        "\n",
        "  fig = plt.gcf()\n",
        "  fig.set_size_inches(18, 10)\n",
        "  plt.axis(\"off\")\n",
        "  #plt.rcParams['figure.figsize'] = [10, 5]\n",
        "  plt.imshow(cv2.cvtColor(resized_image, cv2.COLOR_BGR2RGB))\n",
        "  plt.show()\n",
        "  \n",
        "  \n",
        "def upload():\n",
        "  from google.colab import files\n",
        "  uploaded = files.upload() \n",
        "  for name, data in uploaded.items():\n",
        "    with open(name, 'wb') as f:\n",
        "      f.write(data)\n",
        "      print ('saved file', name)\n",
        "def download(path):\n",
        "  from google.colab import files\n",
        "  files.download(path)"
      ],
      "execution_count": 0,
      "outputs": []
    },
    {
      "cell_type": "code",
      "metadata": {
        "id": "VeAK98NGDyJk",
        "colab_type": "code",
        "colab": {}
      },
      "source": [
        "import cv2\n",
        "import json\n",
        "import os\n",
        "import numpy as np\n",
        "import pandas as pd\n",
        "BASE_PATH = '/content/drive/My Drive/'\n",
        "IMAGES_PATH = BASE_PATH + 'zai2019_hackaton_train/images/train/'\n",
        "TEST_PATH = BASE_PATH + 'zai2019_hackaton_train/images'\n",
        "ANNOTATION = BASE_PATH + 'zai2019_hackaton_train/annotations/ninedash_keypoints_train.json'\n",
        "CROPPED_PATH = BASE_PATH + 'zai2019_hackaton_train/cropped_images/'\n",
        "DARKNET = BASE_PATH + 'darknet/bin/darknet'"
      ],
      "execution_count": 0,
      "outputs": []
    },
    {
      "cell_type": "code",
      "metadata": {
        "id": "vATDxaCZECmr",
        "colab_type": "code",
        "colab": {}
      },
      "source": [
        "with open(ANNOTATION) as f:\n",
        "  config = json.load(f)"
      ],
      "execution_count": 0,
      "outputs": []
    },
    {
      "cell_type": "code",
      "metadata": {
        "id": "cOCj9tjkWhCl",
        "colab_type": "code",
        "colab": {}
      },
      "source": [
        "images_name_list = [f for r, d, f in os.walk(IMAGES_PATH)][0]\n",
        "id_name_mapping = {int(f.split('.')[0]): f for f in images_name_list}"
      ],
      "execution_count": 0,
      "outputs": []
    },
    {
      "cell_type": "code",
      "metadata": {
        "id": "w0ZfEzWjSk9J",
        "colab_type": "code",
        "colab": {}
      },
      "source": [
        "# def get_image_name(image_id):\n",
        "#   return id_name_mapping[image_id]\n",
        "\n",
        "# def save_cropped_image(image_name, param):\n",
        "#   image = cv2.imread(IMAGES_PATH + image_name)\n",
        "#   [a, b, c, d] = [val if val >= 0 else 0 for val in param]\n",
        "#   [name, extension] = image_name.split('.')\n",
        "#   count = 1\n",
        "#   file_name = image_name\n",
        "#   while os.path.isfile(CROPPED_PATH + file_name):\n",
        "#     suffix = '_{}'.format(count)\n",
        "#     file_name = name + suffix + '.' + extension\n",
        "#     count += 1\n",
        "#   cv2.imwrite(CROPPED_PATH + file_name, image[b:b+d, a:a+c])\n",
        "# def test_cropped(image_id, param):\n",
        "#   save_cropped_image(get_image_name(image_id), param)\n",
        "\n",
        "# for annotation in config['annotations']:\n",
        "#   image_name = get_image_name(annotation['image_id'])\n",
        "#   param = annotation['bbox']\n",
        "#   if annotation['area'] > 0:\n",
        "#     save_cropped_image(image_name, param)"
      ],
      "execution_count": 0,
      "outputs": []
    },
    {
      "cell_type": "code",
      "metadata": {
        "id": "I5ISWB4DLhSI",
        "colab_type": "code",
        "colab": {}
      },
      "source": [
        "# test_cropped(5, [569, 0, 531, 918])"
      ],
      "execution_count": 0,
      "outputs": []
    },
    {
      "cell_type": "code",
      "metadata": {
        "id": "Or7E1KuJg8gF",
        "colab_type": "code",
        "colab": {}
      },
      "source": [
        "# annotations = pd.read_csv('annotations.csv', index_col = 'id')\n",
        "# images = pd.read_csv('images.csv', index_col = 'id')"
      ],
      "execution_count": 0,
      "outputs": []
    },
    {
      "cell_type": "code",
      "metadata": {
        "id": "LmTfK4MtmrVK",
        "colab_type": "code",
        "colab": {}
      },
      "source": [
        "YOLOBOX = BASE_PATH + 'yolobox/'\n",
        "for i in images.index:\n",
        "  name = images['file_name'][i]\n",
        "  annotation = annotations[annotations['image_id'] == i]\n",
        "  height = int(images['height'][i])\n",
        "  width = int(images['width'][i])\n",
        "  with open(YOLOBOX + name[:-4] + '.txt', 'w') as f:\n",
        "    for j in range(len(annotation)):\n",
        "      bbox = annotation.iloc[j][1]\n",
        "      bbox = bbox[1:-1]\n",
        "      bbox = bbox.split(',')\n",
        "      bbox = [int(i) if int(i) >= 0 else 0 for i in bbox]\n",
        "      f.write(f'0 {(bbox[0] + bbox[2]/2)/width} {(bbox[1] + bbox[3]/2)/height} {bbox[2]/width} {bbox[3]/height}')\n",
        "      if j != len(annotation) - 1:\n",
        "        f.write('\\n')\n",
        "!cp /content/drive/My\\ Drive/yolobox/* /content/drive/My\\ Drive/zai2019_hackaton_train/images/train/"
      ],
      "execution_count": 0,
      "outputs": []
    },
    {
      "cell_type": "code",
      "metadata": {
        "id": "XOYpUfdUH341",
        "colab_type": "code",
        "colab": {}
      },
      "source": [
        "list_files = [f for r, d, f in os.walk(IMAGES_PATH)][0]\n",
        "list_dir = [IMAGES_PATH + f for f in list_files]\n",
        "with open(DARKNET + 'train.txt', 'w') as f:\n",
        "  for line in list_dir:\n",
        "    f.write(line + '\\n')\n"
      ],
      "execution_count": 0,
      "outputs": []
    },
    {
      "cell_type": "code",
      "metadata": {
        "id": "vCiII9u1NnEM",
        "colab_type": "code",
        "colab": {}
      },
      "source": [
        "# Training phase\n",
        "!/content/darknet/darknet detector train \"/content/drive/My Drive/darknet/obj.data\" \"/content/drive/My Drive/darknet/yolov3.cfg\" \"/content/drive/My Drive/darknet/bin/darknet/weights/darknet53.con.74.weights\" -dont_show"
      ],
      "execution_count": 0,
      "outputs": []
    },
    {
      "cell_type": "code",
      "metadata": {
        "id": "BI2BzhlUlEOC",
        "colab_type": "code",
        "outputId": "13ecea70-91cb-4853-b7b9-6a9c79f51c6a",
        "colab": {
          "base_uri": "https://localhost:8080/",
          "height": 34
        }
      },
      "source": [
        "# Remove previous detection results\n",
        "%rm /content/drive/My\\ Drive/results/*"
      ],
      "execution_count": 43,
      "outputs": [
        {
          "output_type": "stream",
          "text": [
            "done\n"
          ],
          "name": "stdout"
        }
      ]
    },
    {
      "cell_type": "code",
      "metadata": {
        "id": "GETp6tLtRO0W",
        "colab_type": "code",
        "colab": {}
      },
      "source": [
        "# Detecting phase\n",
        "!python /content/drive/My\\ Drive/darknet/YOLO.py -i \"/content/image_contrast/\" -o \"/content/drive/My Drive/results/\" -cl /content/drive/My\\ Drive/darknet/yolov3.txt -w /content/drive/My\\ Drive/darknet/backup2/yolov3_last.weights -c /content/drive/My\\ Drive/darknet/yolov3.cfg\n",
        "%cd /content/drive/My\\ Drive/darknet\n",
        "!python parse_zai2019_prediction.py"
      ],
      "execution_count": 0,
      "outputs": []
    },
    {
      "cell_type": "code",
      "metadata": {
        "id": "cZBH__gB-P7m",
        "colab_type": "code",
        "colab": {}
      },
      "source": [
        ""
      ],
      "execution_count": 0,
      "outputs": []
    },
    {
      "cell_type": "code",
      "metadata": {
        "id": "3QpCA_sRCkzt",
        "colab_type": "code",
        "colab": {}
      },
      "source": [
        "# %cd /content/\n",
        "# !gdown https://drive.google.com/uc?id=1AzWtB457hvjUj9YdQVAr9aM-3GMYN9X4\n",
        "# !unzip /content/contrast.zip"
      ],
      "execution_count": 0,
      "outputs": []
    },
    {
      "cell_type": "code",
      "metadata": {
        "id": "W33SBSu3PvTC",
        "colab_type": "code",
        "colab": {}
      },
      "source": [
        ""
      ],
      "execution_count": 0,
      "outputs": []
    }
  ]
}